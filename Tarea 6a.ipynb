{
 "cells": [
  {
   "cell_type": "markdown",
   "metadata": {},
   "source": [
    "<img style=\"float: left; margin: 30px 15px 15px 15px;\" src=\"https://pngimage.net/wp-content/uploads/2018/06/logo-iteso-png-5.png\" width=\"300\" height=\"500\" /> \n",
    "    \n",
    "    \n",
    "### <font color='navy'> Simulación de procesos financieros. \n",
    "\n",
    "**Nombre:** Pablo Humberto Muñoz Cuevas.\n",
    "\n",
    "**Fecha:** 15 de octubre del 2020.\n",
    "\n",
    "**Expediente** : 719963.\n",
    "**Profesor:** Oscar David Jaramillo Zuluaga.\n",
    "\n",
    "# Tarea 6a: Clase 13"
   ]
  },
  {
   "cell_type": "markdown",
   "metadata": {},
   "source": [
    ">## <font color = 'red'> Tarea 6\n",
    ">1.Suponer que $T$ distribuye beta donde la media es $\\mu_p$ y varianza $\\sigma_p^2$ y responder cual es la probabilidad $P(T\\leq d)$.\n",
    "    ![imagen.png](attachment:imagen.png)\n",
    "\n",
    "> **Ayuda**: - Aprender a utlizar el solucionador de ecuaciones no lineales https://stackoverflow.com/questions/19843116/passing-arguments-to-fsolve\n",
    "- Leer el help de la función beta del paquete estadístico para aprender a graficar funciones beta en un intervalo diferente a 0 y 1.\n",
    "\n",
    ">2.Suponer que $T$ distribuye triangular donde el valor mas probable es $\\mu_p$ el valor pesimista es $p=49$ y el valor optimista es $o=40$ y responder cual es la probabilidad $P(T\\leq d)$. Nuevamente aprender a graficar una función triangular en un intervalro [a,b], usando el help."
   ]
  },
  {
   "cell_type": "code",
   "execution_count": 8,
   "metadata": {},
   "outputs": [],
   "source": [
    "import numpy as np\n",
    "from scipy.optimize import fsolve\n",
    "import matplotlib.pyplot as plt\n",
    "from scipy.stats import beta,triang\n",
    "from math import factorial as fac\n",
    "from scipy.special import comb\n",
    "import scipy.stats as st\n",
    "%matplotlib inline\n",
    "from IPython.display import Image\n",
    "from IPython.core.display import HTML"
   ]
  },
  {
   "cell_type": "code",
   "execution_count": 9,
   "metadata": {},
   "outputs": [],
   "source": [
    "#ingreso mis datos\n",
    "mu = 44 #media\n",
    "sigma = 3 #desviación estandar\n",
    "d = 47 #valor para calcular prob\n",
    "#a y b son los límites inferior y superior valores optimista y pesimista\n",
    "a=40\n",
    "b=49 "
   ]
  },
  {
   "cell_type": "code",
   "execution_count": 10,
   "metadata": {},
   "outputs": [
    {
     "data": {
      "text/html": [
       "<img src=\"https://i.imgur.com/agVvw1F.png\"/>"
      ],
      "text/plain": [
       "<IPython.core.display.Image object>"
      ]
     },
     "execution_count": 10,
     "metadata": {},
     "output_type": "execute_result"
    }
   ],
   "source": [
    "Image(url= \"https://i.imgur.com/agVvw1F.png\")"
   ]
  },
  {
   "cell_type": "code",
   "execution_count": 12,
   "metadata": {},
   "outputs": [
    {
     "data": {
      "text/html": [
       "<img src=\"https://i.imgur.com/YDl1RkM.png\"/>"
      ],
      "text/plain": [
       "<IPython.core.display.Image object>"
      ]
     },
     "execution_count": 12,
     "metadata": {},
     "output_type": "execute_result"
    }
   ],
   "source": [
    "Image(url= \"https://i.imgur.com/YDl1RkM.png\")"
   ]
  },
  {
   "cell_type": "code",
   "execution_count": 14,
   "metadata": {},
   "outputs": [
    {
     "name": "stdout",
     "output_type": "stream",
     "text": [
      "Alpha: 2.5185185185752905\n",
      "Beta: 3.1481481481438194\n",
      "Pb(T<=d)= 1.0\n"
     ]
    },
    {
     "data": {
      "image/png": "[encoded data removed]",
      "text/plain": [
       "<Figure size 432x288 with 1 Axes>"
      ]
     },
     "metadata": {
      "needs_background": "light"
     },
     "output_type": "display_data"
    }
   ],
   "source": [
    "#función para resolver las ecuaciones\n",
    "def f(z):\n",
    "    alpha, beta=z\n",
    "    f1 = ((a * beta + b * alpha)/(alpha + beta)) - mu\n",
    "    f2 = ((alpha*beta*(b - a)**2) / (((alpha + beta)**2)*(1 + alpha + beta))) - sigma\n",
    "    return [f1, f2]\n",
    "#resolvemos las ecuaciones\n",
    "alpha, beta = fsolve(f, [1, 1])\n",
    "print(f'Alpha: {alpha}\\nBeta: {beta}')\n",
    "#obtenemos la distribución y probabilidad\n",
    "d=66\n",
    "P_beta = st.beta(alpha, beta, loc=mu, scale=sigma).cdf(d)\n",
    "print('Pb(T<=d)=',P_beta)\n",
    "#graficamos\n",
    "fig, ax = plt.subplots(1, 1)\n",
    "def plot_dist_beta(alpha,beta,mu,sigma):\n",
    "    x=np.linspace(st.beta.ppf(0.001,alpha,beta,loc=mu,scale=sigma),\n",
    "                 st.beta.ppf(0.999,alpha,beta,loc=mu,scale=sigma),100)\n",
    "    ax.plot(x,st.beta.pdf(x,alpha,beta,loc=mu,scale=sigma),\n",
    "           'r-',alpha=0.6,label='beta pdf')\n",
    "    plt.legend()\n",
    "    \n",
    "plot_dist_beta(alpha,beta,mu,sigma)"
   ]
  },
  {
   "cell_type": "markdown",
   "metadata": {},
   "source": [
    "## EJERCICIO 2\n",
    "\n",
    "2.Suponer que $T$ distribuye triangular donde el valor mas probable es $\\mu_p$ el valor pesimista es $p=49$ y el valor optimista es $o=40$ y responder cual es la probabilidad $P(T\\leq d)$. Nuevamente aprender a graficar una función triangular en un intervalro [a,b], usando el help."
   ]
  },
  {
   "cell_type": "code",
   "execution_count": 20,
   "metadata": {},
   "outputs": [
    {
     "name": "stdout",
     "output_type": "stream",
     "text": [
      "La probabilidad P(T<=d) = 91.11 %\n"
     ]
    },
    {
     "data": {
      "image/png": "[encoded data removed]",
      "text/plain": [
       "<Figure size 432x288 with 1 Axes>"
      ]
     },
     "metadata": {
      "needs_background": "light"
     },
     "output_type": "display_data"
    }
   ],
   "source": [
    "b=49#pesimista \n",
    "a=40#optimista \n",
    "mu=44\n",
    "i=(mu-a)/(b-a)\n",
    "d=47\n",
    "#graficamos\n",
    "fig, ax = plt.subplots(1, 1)\n",
    "loc=a # Izquierda\n",
    "scale=(b-a) # Derecha - Izquierda\n",
    "\n",
    "#distribución y probabilidad\n",
    "P_triang = st.triang(i, loc=loc, scale=scale).cdf(d)\n",
    "\n",
    "\n",
    "x = np.linspace(st.triang.ppf(0.001, i, loc=loc, scale=scale),\n",
    "                st.triang.ppf(0.999, i, loc=loc, scale=scale), \n",
    "                100)\n",
    "ax.plot(x, st.triang.pdf(x, i, loc=loc, scale=scale), \n",
    "        'r-', alpha=0.6)\n",
    "print('La probabilidad P(T<=d) =',P_triang.round(4)*100,'%')"
   ]
  },
  {
   "cell_type": "code",
   "execution_count": null,
   "metadata": {},
   "outputs": [],
   "source": []
  }
 ],
 "metadata": {
  "kernelspec": {
   "display_name": "Python 3",
   "language": "python",
   "name": "python3"
  },
  "language_info": {
   "codemirror_mode": {
    "name": "ipython",
    "version": 3
   },
   "file_extension": ".py",
   "mimetype": "text/x-python",
   "name": "python",
   "nbconvert_exporter": "python",
   "pygments_lexer": "ipython3",
   "version": "3.8.3"
  }
 },
 "nbformat": 4,
 "nbformat_minor": 4
}
